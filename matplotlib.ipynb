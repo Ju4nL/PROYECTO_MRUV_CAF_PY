{
 "cells": [
  {
   "cell_type": "code",
   "execution_count": 2,
   "metadata": {},
   "outputs": [],
   "source": [
    "import matplotlib.pyplot as plt"
   ]
  },
  {
   "attachments": {},
   "cell_type": "markdown",
   "metadata": {},
   "source": [
    "Line plot"
   ]
  },
  {
   "cell_type": "code",
   "execution_count": null,
   "metadata": {},
   "outputs": [],
   "source": [
    "plt.figure(figsize=(10,10))#para el tamaño\n",
    "\n",
    "\n",
    "#pais 1\n",
    "x1=[2016,2017,2018,2019,2020,2021]\n",
    "y1=[45,46,47,49,53,40]\n",
    "\n",
    "#pais 2\n",
    "x2=[2016,2017,2018,2019,2020,2021]\n",
    "y2=[35,36,37,39,43,40]\n",
    "\n",
    "\n",
    "#marker  para dar marcadores\n",
    "#linestyle estilo de la linea\n",
    "\n",
    "plt.plot(x1,y1,marker='o',linestyle='--',color='g',label ='pais1')\n",
    "plt.plot(x2,y2,marker='d',linestyle='-',color='r',label ='pais2') #añadimos otra linea\n",
    "plt.xlabel('Años')#para dar nombre al grafico\n",
    "plt.ylabel('millones')#para dar nombre al grafico\n",
    "plt.title('LinePlot')\n",
    "plt.legend(loc='lower right')\n",
    "plt.yticks([45,48,52])\n",
    "plt.show()"
   ]
  },
  {
   "cell_type": "code",
   "execution_count": null,
   "metadata": {},
   "outputs": [],
   "source": [
    "#pais 1\n",
    "x1=[2016,2017,2018,2019,2020,2021]\n",
    "y1=[45,46,47,49,53,40]\n",
    "plt.bar(x1,y1)\n",
    "plt.show()"
   ]
  },
  {
   "cell_type": "code",
   "execution_count": null,
   "metadata": {},
   "outputs": [],
   "source": [
    "x1=[2016,2017,2018,2019,2020,2021]\n",
    "y1=[45,46,47,49,53,40]\n",
    "plt.pie(y1,labels=x1)\n",
    "plt.show()"
   ]
  }
 ],
 "metadata": {
  "kernelspec": {
   "display_name": "Python 3",
   "language": "python",
   "name": "python3"
  },
  "language_info": {
   "codemirror_mode": {
    "name": "ipython",
    "version": 3
   },
   "file_extension": ".py",
   "mimetype": "text/x-python",
   "name": "python",
   "nbconvert_exporter": "python",
   "pygments_lexer": "ipython3",
   "version": "3.11.4"
  },
  "orig_nbformat": 4
 },
 "nbformat": 4,
 "nbformat_minor": 2
}
